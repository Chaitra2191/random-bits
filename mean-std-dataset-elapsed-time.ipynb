{
 "cells": [
  {
   "cell_type": "markdown",
   "metadata": {},
   "source": [
    "This notebook contains 2 parts of Code. \n",
    "1. Get the elapsed time of your script\n",
    "2. Compute mean-std of dataset "
   ]
  },
  {
   "cell_type": "code",
   "execution_count": 1,
   "metadata": {},
   "outputs": [],
   "source": [
    "import time\n",
    "import torch\n",
    "import torchvision\n",
    "from torchvision import datasets, transforms"
   ]
  },
  {
   "cell_type": "code",
   "execution_count": 2,
   "metadata": {},
   "outputs": [],
   "source": [
    "time_start = time.time()\n",
    "#Your script here to display the elapsed time. \n",
    "#Here I am writing a script to compute mean-std of a dataset.\n",
    "def ComputeMeanStd(dataset):\n",
    "    dataloader = torch.utils.data.DataLoader(dataset, batch_size=256, shuffle=True, num_workers=0)\n",
    "    meanVal = 0.\n",
    "    stdVal = 0.\n",
    "    for data, _ in dataloader:\n",
    "        batch_size = data.size(0)\n",
    "        data = data.view(batch_size, data.size(1), -1)\n",
    "        meanVal += data.mean(2).sum(0)\n",
    "        stdVal += data.std(2).sum(0)\n",
    "\n",
    "    meanVal /= len(dataloader.dataset)\n",
    "    stdVal /= len(dataloader.dataset)\n",
    "    \n",
    "    return meanVal, stdVal"
   ]
  },
  {
   "cell_type": "code",
   "execution_count": 3,
   "metadata": {},
   "outputs": [
    {
     "name": "stdout",
     "output_type": "stream",
     "text": [
      "\n",
      "Data Preparation\n",
      "Preparing MNIST dataset...\n",
      "Files already downloaded and verified\n"
     ]
    }
   ],
   "source": [
    "print('\\nData Preparation')\n",
    "print(\"Preparing MNIST dataset...\")\n",
    "\n",
    "trainset = torchvision.datasets.CIFAR10(root='./data', train=True, download=True, transform=transforms.ToTensor())\n",
    "testset = torchvision.datasets.CIFAR10(root='./data', train=False, download=False, transform=transforms.ToTensor())"
   ]
  },
  {
   "cell_type": "code",
   "execution_count": 4,
   "metadata": {},
   "outputs": [],
   "source": [
    "#If any image transformations. Composes several transforms together.\n",
    "trainset.transform = transforms.Compose([\n",
    "        transforms.RandomCrop(32, padding=4),\n",
    "        transforms.RandomHorizontalFlip(),\n",
    "        transforms.ToTensor(),\n",
    "        transforms.Normalize(ComputeMeanStd(trainset)[0], ComputeMeanStd(trainset)[1]),\n",
    "    ])"
   ]
  },
  {
   "cell_type": "code",
   "execution_count": 5,
   "metadata": {},
   "outputs": [],
   "source": [
    "testset.transform = transforms.Compose([\n",
    "        transforms.ToTensor(),\n",
    "        transforms.Normalize(ComputeMeanStd(testset)[0], ComputeMeanStd(testset)[1]),\n",
    "    ])"
   ]
  },
  {
   "cell_type": "code",
   "execution_count": 6,
   "metadata": {},
   "outputs": [],
   "source": [
    "trainLoader = torch.utils.data.DataLoader(trainset, batch_size=256, shuffle=True, num_workers=0)\n",
    "testLoader = torch.utils.data.DataLoader(testset, batch_size=256, shuffle=False, num_workers=0)"
   ]
  },
  {
   "cell_type": "code",
   "execution_count": 7,
   "metadata": {},
   "outputs": [
    {
     "name": "stdout",
     "output_type": "stream",
     "text": [
      "Compose(\n",
      "    RandomCrop(size=(32, 32), padding=4)\n",
      "    RandomHorizontalFlip(p=0.5)\n",
      "    ToTensor()\n",
      "    Normalize(mean=tensor([0.4914, 0.4822, 0.4465]), std=tensor([0.2023, 0.1994, 0.2010]))\n",
      ")\n"
     ]
    }
   ],
   "source": [
    "print(trainset.transform)"
   ]
  },
  {
   "cell_type": "code",
   "execution_count": 8,
   "metadata": {},
   "outputs": [
    {
     "name": "stdout",
     "output_type": "stream",
     "text": [
      "Compose(\n",
      "    ToTensor()\n",
      "    Normalize(mean=tensor([0.4942, 0.4851, 0.4504]), std=tensor([0.2020, 0.1991, 0.2011]))\n",
      ")\n"
     ]
    }
   ],
   "source": [
    "print(testset.transform)"
   ]
  },
  {
   "cell_type": "code",
   "execution_count": 9,
   "metadata": {},
   "outputs": [
    {
     "name": "stdout",
     "output_type": "stream",
     "text": [
      "| Elapsed time: 00:00:18\n"
     ]
    }
   ],
   "source": [
    "time_elapsed = time.time() - time_start\n",
    "print('| Elapsed time:', time.strftime(\"%H:%M:%S\", time.gmtime(time_elapsed)))"
   ]
  }
 ],
 "metadata": {
  "kernelspec": {
   "display_name": "Python 3",
   "language": "python",
   "name": "python3"
  },
  "language_info": {
   "codemirror_mode": {
    "name": "ipython",
    "version": 3
   },
   "file_extension": ".py",
   "mimetype": "text/x-python",
   "name": "python",
   "nbconvert_exporter": "python",
   "pygments_lexer": "ipython3",
   "version": "3.6.0"
  }
 },
 "nbformat": 4,
 "nbformat_minor": 2
}
